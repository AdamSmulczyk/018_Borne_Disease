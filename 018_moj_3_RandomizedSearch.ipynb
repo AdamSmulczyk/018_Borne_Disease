{
 "cells": [
  {
   "cell_type": "code",
   "execution_count": 20,
   "id": "289c9fdc",
   "metadata": {},
   "outputs": [],
   "source": [
    "import numpy as np\n",
    "import pandas as pd\n",
    "import optuna\n",
    "import warnings\n",
    "\n",
    "import seaborn as sns\n",
    "import matplotlib as plt\n",
    "\n",
    "from sklearn.preprocessing import OrdinalEncoder\n",
    "from sklearnex.ensemble import RandomForestClassifier\n",
    "from sklearn.model_selection import RandomizedSearchCV\n",
    "from sklearn.metrics import auc, accuracy_score, confusion_matrix, mean_squared_error, mean_absolute_error\n",
    "import xgboost as xgb\n",
    "from sklearn.model_selection import train_test_split \n",
    "\n",
    "# from utils import mapk\n",
    "warnings.filterwarnings('ignore')"
   ]
  },
  {
   "cell_type": "code",
   "execution_count": 2,
   "id": "8ea68466",
   "metadata": {},
   "outputs": [],
   "source": [
    "pd.options.display.max_columns = 100\n",
    "pd.options.display.max_rows = 100"
   ]
  },
  {
   "cell_type": "code",
   "execution_count": 3,
   "id": "dcc13375",
   "metadata": {},
   "outputs": [],
   "source": [
    "train = pd.read_csv(\"train.csv\")\n",
    "test = pd.read_csv(\"test.csv\")"
   ]
  },
  {
   "cell_type": "code",
   "execution_count": 4,
   "id": "3d262deb",
   "metadata": {},
   "outputs": [],
   "source": [
    "from sklearn.preprocessing import LabelEncoder\n",
    "# encode the target calss into numeric\n",
    "label = LabelEncoder()\n",
    "train['prognosis'] =label.fit_transform(train['prognosis'])"
   ]
  },
  {
   "cell_type": "code",
   "execution_count": 5,
   "id": "791ca125",
   "metadata": {},
   "outputs": [
    {
     "data": {
      "text/html": [
       "<div>\n",
       "<style scoped>\n",
       "    .dataframe tbody tr th:only-of-type {\n",
       "        vertical-align: middle;\n",
       "    }\n",
       "\n",
       "    .dataframe tbody tr th {\n",
       "        vertical-align: top;\n",
       "    }\n",
       "\n",
       "    .dataframe thead th {\n",
       "        text-align: right;\n",
       "    }\n",
       "</style>\n",
       "<table border=\"1\" class=\"dataframe\">\n",
       "  <thead>\n",
       "    <tr style=\"text-align: right;\">\n",
       "      <th></th>\n",
       "      <th>id</th>\n",
       "      <th>sudden_fever</th>\n",
       "      <th>headache</th>\n",
       "      <th>mouth_bleed</th>\n",
       "      <th>nose_bleed</th>\n",
       "      <th>muscle_pain</th>\n",
       "      <th>joint_pain</th>\n",
       "      <th>vomiting</th>\n",
       "      <th>rash</th>\n",
       "      <th>diarrhea</th>\n",
       "      <th>hypotension</th>\n",
       "      <th>pleural_effusion</th>\n",
       "      <th>ascites</th>\n",
       "      <th>gastro_bleeding</th>\n",
       "      <th>swelling</th>\n",
       "      <th>nausea</th>\n",
       "      <th>chills</th>\n",
       "      <th>myalgia</th>\n",
       "      <th>digestion_trouble</th>\n",
       "      <th>fatigue</th>\n",
       "      <th>skin_lesions</th>\n",
       "      <th>stomach_pain</th>\n",
       "      <th>orbital_pain</th>\n",
       "      <th>neck_pain</th>\n",
       "      <th>weakness</th>\n",
       "      <th>back_pain</th>\n",
       "      <th>weight_loss</th>\n",
       "      <th>gum_bleed</th>\n",
       "      <th>jaundice</th>\n",
       "      <th>coma</th>\n",
       "      <th>diziness</th>\n",
       "      <th>inflammation</th>\n",
       "      <th>red_eyes</th>\n",
       "      <th>loss_of_appetite</th>\n",
       "      <th>urination_loss</th>\n",
       "      <th>slow_heart_rate</th>\n",
       "      <th>abdominal_pain</th>\n",
       "      <th>light_sensitivity</th>\n",
       "      <th>yellow_skin</th>\n",
       "      <th>yellow_eyes</th>\n",
       "      <th>facial_distortion</th>\n",
       "      <th>microcephaly</th>\n",
       "      <th>rigor</th>\n",
       "      <th>bitter_tongue</th>\n",
       "      <th>convulsion</th>\n",
       "      <th>anemia</th>\n",
       "      <th>cocacola_urine</th>\n",
       "      <th>hypoglycemia</th>\n",
       "      <th>prostraction</th>\n",
       "      <th>hyperpyrexia</th>\n",
       "      <th>stiff_neck</th>\n",
       "      <th>irritability</th>\n",
       "      <th>confusion</th>\n",
       "      <th>tremor</th>\n",
       "      <th>paralysis</th>\n",
       "      <th>lymph_swells</th>\n",
       "      <th>breathing_restriction</th>\n",
       "      <th>toe_inflammation</th>\n",
       "      <th>finger_inflammation</th>\n",
       "      <th>lips_irritation</th>\n",
       "      <th>itchiness</th>\n",
       "      <th>ulcers</th>\n",
       "      <th>toenail_loss</th>\n",
       "      <th>speech_problem</th>\n",
       "      <th>bullseye_rash</th>\n",
       "      <th>prognosis</th>\n",
       "    </tr>\n",
       "  </thead>\n",
       "  <tbody>\n",
       "    <tr>\n",
       "      <th>0</th>\n",
       "      <td>0</td>\n",
       "      <td>1.0</td>\n",
       "      <td>1.0</td>\n",
       "      <td>0.0</td>\n",
       "      <td>1.0</td>\n",
       "      <td>1.0</td>\n",
       "      <td>1.0</td>\n",
       "      <td>1.0</td>\n",
       "      <td>0.0</td>\n",
       "      <td>1.0</td>\n",
       "      <td>1.0</td>\n",
       "      <td>1.0</td>\n",
       "      <td>1.0</td>\n",
       "      <td>0.0</td>\n",
       "      <td>0.0</td>\n",
       "      <td>1.0</td>\n",
       "      <td>1.0</td>\n",
       "      <td>0.0</td>\n",
       "      <td>0.0</td>\n",
       "      <td>1.0</td>\n",
       "      <td>0.0</td>\n",
       "      <td>1.0</td>\n",
       "      <td>0.0</td>\n",
       "      <td>1.0</td>\n",
       "      <td>1.0</td>\n",
       "      <td>1.0</td>\n",
       "      <td>1.0</td>\n",
       "      <td>1.0</td>\n",
       "      <td>1.0</td>\n",
       "      <td>1.0</td>\n",
       "      <td>0.0</td>\n",
       "      <td>0.0</td>\n",
       "      <td>1.0</td>\n",
       "      <td>0.0</td>\n",
       "      <td>0.0</td>\n",
       "      <td>0.0</td>\n",
       "      <td>0.0</td>\n",
       "      <td>1.0</td>\n",
       "      <td>0.0</td>\n",
       "      <td>0.0</td>\n",
       "      <td>0.0</td>\n",
       "      <td>0.0</td>\n",
       "      <td>0.0</td>\n",
       "      <td>1.0</td>\n",
       "      <td>0.0</td>\n",
       "      <td>1.0</td>\n",
       "      <td>0.0</td>\n",
       "      <td>1.0</td>\n",
       "      <td>0.0</td>\n",
       "      <td>0.0</td>\n",
       "      <td>0.0</td>\n",
       "      <td>0.0</td>\n",
       "      <td>1.0</td>\n",
       "      <td>0.0</td>\n",
       "      <td>1.0</td>\n",
       "      <td>0.0</td>\n",
       "      <td>0.0</td>\n",
       "      <td>0.0</td>\n",
       "      <td>0.0</td>\n",
       "      <td>0.0</td>\n",
       "      <td>0.0</td>\n",
       "      <td>0.0</td>\n",
       "      <td>0.0</td>\n",
       "      <td>0.0</td>\n",
       "      <td>0.0</td>\n",
       "      <td>3</td>\n",
       "    </tr>\n",
       "    <tr>\n",
       "      <th>1</th>\n",
       "      <td>1</td>\n",
       "      <td>0.0</td>\n",
       "      <td>0.0</td>\n",
       "      <td>0.0</td>\n",
       "      <td>0.0</td>\n",
       "      <td>0.0</td>\n",
       "      <td>0.0</td>\n",
       "      <td>1.0</td>\n",
       "      <td>0.0</td>\n",
       "      <td>1.0</td>\n",
       "      <td>0.0</td>\n",
       "      <td>1.0</td>\n",
       "      <td>0.0</td>\n",
       "      <td>1.0</td>\n",
       "      <td>0.0</td>\n",
       "      <td>1.0</td>\n",
       "      <td>0.0</td>\n",
       "      <td>0.0</td>\n",
       "      <td>0.0</td>\n",
       "      <td>0.0</td>\n",
       "      <td>1.0</td>\n",
       "      <td>0.0</td>\n",
       "      <td>0.0</td>\n",
       "      <td>0.0</td>\n",
       "      <td>0.0</td>\n",
       "      <td>0.0</td>\n",
       "      <td>0.0</td>\n",
       "      <td>0.0</td>\n",
       "      <td>0.0</td>\n",
       "      <td>0.0</td>\n",
       "      <td>0.0</td>\n",
       "      <td>0.0</td>\n",
       "      <td>0.0</td>\n",
       "      <td>0.0</td>\n",
       "      <td>0.0</td>\n",
       "      <td>0.0</td>\n",
       "      <td>0.0</td>\n",
       "      <td>0.0</td>\n",
       "      <td>0.0</td>\n",
       "      <td>0.0</td>\n",
       "      <td>0.0</td>\n",
       "      <td>0.0</td>\n",
       "      <td>0.0</td>\n",
       "      <td>0.0</td>\n",
       "      <td>0.0</td>\n",
       "      <td>0.0</td>\n",
       "      <td>0.0</td>\n",
       "      <td>0.0</td>\n",
       "      <td>0.0</td>\n",
       "      <td>0.0</td>\n",
       "      <td>0.0</td>\n",
       "      <td>0.0</td>\n",
       "      <td>0.0</td>\n",
       "      <td>0.0</td>\n",
       "      <td>0.0</td>\n",
       "      <td>0.0</td>\n",
       "      <td>0.0</td>\n",
       "      <td>0.0</td>\n",
       "      <td>0.0</td>\n",
       "      <td>0.0</td>\n",
       "      <td>0.0</td>\n",
       "      <td>0.0</td>\n",
       "      <td>0.0</td>\n",
       "      <td>0.0</td>\n",
       "      <td>0.0</td>\n",
       "      <td>7</td>\n",
       "    </tr>\n",
       "    <tr>\n",
       "      <th>2</th>\n",
       "      <td>2</td>\n",
       "      <td>0.0</td>\n",
       "      <td>1.0</td>\n",
       "      <td>1.0</td>\n",
       "      <td>1.0</td>\n",
       "      <td>0.0</td>\n",
       "      <td>1.0</td>\n",
       "      <td>1.0</td>\n",
       "      <td>1.0</td>\n",
       "      <td>1.0</td>\n",
       "      <td>1.0</td>\n",
       "      <td>1.0</td>\n",
       "      <td>1.0</td>\n",
       "      <td>1.0</td>\n",
       "      <td>1.0</td>\n",
       "      <td>1.0</td>\n",
       "      <td>1.0</td>\n",
       "      <td>1.0</td>\n",
       "      <td>0.0</td>\n",
       "      <td>1.0</td>\n",
       "      <td>1.0</td>\n",
       "      <td>1.0</td>\n",
       "      <td>1.0</td>\n",
       "      <td>1.0</td>\n",
       "      <td>1.0</td>\n",
       "      <td>1.0</td>\n",
       "      <td>1.0</td>\n",
       "      <td>1.0</td>\n",
       "      <td>1.0</td>\n",
       "      <td>0.0</td>\n",
       "      <td>0.0</td>\n",
       "      <td>1.0</td>\n",
       "      <td>1.0</td>\n",
       "      <td>1.0</td>\n",
       "      <td>1.0</td>\n",
       "      <td>0.0</td>\n",
       "      <td>1.0</td>\n",
       "      <td>0.0</td>\n",
       "      <td>1.0</td>\n",
       "      <td>1.0</td>\n",
       "      <td>1.0</td>\n",
       "      <td>0.0</td>\n",
       "      <td>1.0</td>\n",
       "      <td>1.0</td>\n",
       "      <td>1.0</td>\n",
       "      <td>1.0</td>\n",
       "      <td>0.0</td>\n",
       "      <td>1.0</td>\n",
       "      <td>0.0</td>\n",
       "      <td>0.0</td>\n",
       "      <td>0.0</td>\n",
       "      <td>1.0</td>\n",
       "      <td>1.0</td>\n",
       "      <td>1.0</td>\n",
       "      <td>1.0</td>\n",
       "      <td>1.0</td>\n",
       "      <td>1.0</td>\n",
       "      <td>1.0</td>\n",
       "      <td>1.0</td>\n",
       "      <td>1.0</td>\n",
       "      <td>1.0</td>\n",
       "      <td>0.0</td>\n",
       "      <td>1.0</td>\n",
       "      <td>1.0</td>\n",
       "      <td>1.0</td>\n",
       "      <td>3</td>\n",
       "    </tr>\n",
       "  </tbody>\n",
       "</table>\n",
       "</div>"
      ],
      "text/plain": [
       "   id  sudden_fever  headache  mouth_bleed  nose_bleed  muscle_pain  \\\n",
       "0   0           1.0       1.0          0.0         1.0          1.0   \n",
       "1   1           0.0       0.0          0.0         0.0          0.0   \n",
       "2   2           0.0       1.0          1.0         1.0          0.0   \n",
       "\n",
       "   joint_pain  vomiting  rash  diarrhea  hypotension  pleural_effusion  \\\n",
       "0         1.0       1.0   0.0       1.0          1.0               1.0   \n",
       "1         0.0       1.0   0.0       1.0          0.0               1.0   \n",
       "2         1.0       1.0   1.0       1.0          1.0               1.0   \n",
       "\n",
       "   ascites  gastro_bleeding  swelling  nausea  chills  myalgia  \\\n",
       "0      1.0              0.0       0.0     1.0     1.0      0.0   \n",
       "1      0.0              1.0       0.0     1.0     0.0      0.0   \n",
       "2      1.0              1.0       1.0     1.0     1.0      1.0   \n",
       "\n",
       "   digestion_trouble  fatigue  skin_lesions  stomach_pain  orbital_pain  \\\n",
       "0                0.0      1.0           0.0           1.0           0.0   \n",
       "1                0.0      0.0           1.0           0.0           0.0   \n",
       "2                0.0      1.0           1.0           1.0           1.0   \n",
       "\n",
       "   neck_pain  weakness  back_pain  weight_loss  gum_bleed  jaundice  coma  \\\n",
       "0        1.0       1.0        1.0          1.0        1.0       1.0   1.0   \n",
       "1        0.0       0.0        0.0          0.0        0.0       0.0   0.0   \n",
       "2        1.0       1.0        1.0          1.0        1.0       1.0   0.0   \n",
       "\n",
       "   diziness  inflammation  red_eyes  loss_of_appetite  urination_loss  \\\n",
       "0       0.0           0.0       1.0               0.0             0.0   \n",
       "1       0.0           0.0       0.0               0.0             0.0   \n",
       "2       0.0           1.0       1.0               1.0             1.0   \n",
       "\n",
       "   slow_heart_rate  abdominal_pain  light_sensitivity  yellow_skin  \\\n",
       "0              0.0             0.0                1.0          0.0   \n",
       "1              0.0             0.0                0.0          0.0   \n",
       "2              0.0             1.0                0.0          1.0   \n",
       "\n",
       "   yellow_eyes  facial_distortion  microcephaly  rigor  bitter_tongue  \\\n",
       "0          0.0                0.0           0.0    0.0            1.0   \n",
       "1          0.0                0.0           0.0    0.0            0.0   \n",
       "2          1.0                1.0           0.0    1.0            1.0   \n",
       "\n",
       "   convulsion  anemia  cocacola_urine  hypoglycemia  prostraction  \\\n",
       "0         0.0     1.0             0.0           1.0           0.0   \n",
       "1         0.0     0.0             0.0           0.0           0.0   \n",
       "2         1.0     1.0             0.0           1.0           0.0   \n",
       "\n",
       "   hyperpyrexia  stiff_neck  irritability  confusion  tremor  paralysis  \\\n",
       "0           0.0         0.0           0.0        1.0     0.0        1.0   \n",
       "1           0.0         0.0           0.0        0.0     0.0        0.0   \n",
       "2           0.0         0.0           1.0        1.0     1.0        1.0   \n",
       "\n",
       "   lymph_swells  breathing_restriction  toe_inflammation  finger_inflammation  \\\n",
       "0           0.0                    0.0               0.0                  0.0   \n",
       "1           0.0                    0.0               0.0                  0.0   \n",
       "2           1.0                    1.0               1.0                  1.0   \n",
       "\n",
       "   lips_irritation  itchiness  ulcers  toenail_loss  speech_problem  \\\n",
       "0              0.0        0.0     0.0           0.0             0.0   \n",
       "1              0.0        0.0     0.0           0.0             0.0   \n",
       "2              1.0        1.0     0.0           1.0             1.0   \n",
       "\n",
       "   bullseye_rash  prognosis  \n",
       "0            0.0          3  \n",
       "1            0.0          7  \n",
       "2            1.0          3  "
      ]
     },
     "execution_count": 5,
     "metadata": {},
     "output_type": "execute_result"
    }
   ],
   "source": [
    "train.head(3)"
   ]
  },
  {
   "cell_type": "code",
   "execution_count": 8,
   "id": "5979ff79",
   "metadata": {},
   "outputs": [],
   "source": [
    "y = train['prognosis']\n",
    "X = train.drop('prognosis',axis=1)"
   ]
  },
  {
   "cell_type": "code",
   "execution_count": 9,
   "id": "97ae060b",
   "metadata": {},
   "outputs": [
    {
     "data": {
      "text/plain": [
       "array([ 3,  7, 10,  6,  8,  4,  0,  5,  1,  9,  2])"
      ]
     },
     "execution_count": 9,
     "metadata": {},
     "output_type": "execute_result"
    }
   ],
   "source": [
    "y.unique()"
   ]
  },
  {
   "cell_type": "code",
   "execution_count": 42,
   "id": "bfc01228",
   "metadata": {},
   "outputs": [],
   "source": [
    "# ohe = OrdinalEncoder()\n",
    "# y = ohe.fit_transform(train[['prognosis']])"
   ]
  },
  {
   "cell_type": "code",
   "execution_count": 9,
   "id": "249d8ca6",
   "metadata": {},
   "outputs": [],
   "source": [
    "# from sklearn.preprocessing import LabelEncoder\n",
    "# # encode the target calss into numeric\n",
    "# label = LabelEncoder()\n",
    "# y =label.fit_transform(train['prognosis'])"
   ]
  },
  {
   "cell_type": "markdown",
   "id": "70a821be",
   "metadata": {},
   "source": [
    "# train_test_split"
   ]
  },
  {
   "cell_type": "code",
   "execution_count": 28,
   "id": "5c0f1989",
   "metadata": {},
   "outputs": [],
   "source": [
    "X_train, X_test, y_train, y_test = train_test_split(X, y, random_state=42, test_size=0.2)"
   ]
  },
  {
   "cell_type": "code",
   "execution_count": 29,
   "id": "bd594db7",
   "metadata": {},
   "outputs": [
    {
     "data": {
      "text/plain": [
       "(565, 65)"
      ]
     },
     "execution_count": 29,
     "metadata": {},
     "output_type": "execute_result"
    }
   ],
   "source": [
    "X_train.shape"
   ]
  },
  {
   "cell_type": "code",
   "execution_count": 30,
   "id": "8344b70e",
   "metadata": {},
   "outputs": [
    {
     "data": {
      "text/plain": [
       "(142, 65)"
      ]
     },
     "execution_count": 30,
     "metadata": {},
     "output_type": "execute_result"
    }
   ],
   "source": [
    "X_test.shape"
   ]
  },
  {
   "cell_type": "markdown",
   "id": "09fbde24",
   "metadata": {},
   "source": [
    "# XGB"
   ]
  },
  {
   "cell_type": "code",
   "execution_count": 91,
   "id": "b56d7f8e",
   "metadata": {},
   "outputs": [],
   "source": [
    "XGB_model = xgb.XGBRegressor(random_state=42)"
   ]
  },
  {
   "cell_type": "code",
   "execution_count": 96,
   "id": "f392b59c",
   "metadata": {},
   "outputs": [
    {
     "data": {
      "text/html": [
       "<style>#sk-container-id-8 {color: black;}#sk-container-id-8 pre{padding: 0;}#sk-container-id-8 div.sk-toggleable {background-color: white;}#sk-container-id-8 label.sk-toggleable__label {cursor: pointer;display: block;width: 100%;margin-bottom: 0;padding: 0.3em;box-sizing: border-box;text-align: center;}#sk-container-id-8 label.sk-toggleable__label-arrow:before {content: \"▸\";float: left;margin-right: 0.25em;color: #696969;}#sk-container-id-8 label.sk-toggleable__label-arrow:hover:before {color: black;}#sk-container-id-8 div.sk-estimator:hover label.sk-toggleable__label-arrow:before {color: black;}#sk-container-id-8 div.sk-toggleable__content {max-height: 0;max-width: 0;overflow: hidden;text-align: left;background-color: #f0f8ff;}#sk-container-id-8 div.sk-toggleable__content pre {margin: 0.2em;color: black;border-radius: 0.25em;background-color: #f0f8ff;}#sk-container-id-8 input.sk-toggleable__control:checked~div.sk-toggleable__content {max-height: 200px;max-width: 100%;overflow: auto;}#sk-container-id-8 input.sk-toggleable__control:checked~label.sk-toggleable__label-arrow:before {content: \"▾\";}#sk-container-id-8 div.sk-estimator input.sk-toggleable__control:checked~label.sk-toggleable__label {background-color: #d4ebff;}#sk-container-id-8 div.sk-label input.sk-toggleable__control:checked~label.sk-toggleable__label {background-color: #d4ebff;}#sk-container-id-8 input.sk-hidden--visually {border: 0;clip: rect(1px 1px 1px 1px);clip: rect(1px, 1px, 1px, 1px);height: 1px;margin: -1px;overflow: hidden;padding: 0;position: absolute;width: 1px;}#sk-container-id-8 div.sk-estimator {font-family: monospace;background-color: #f0f8ff;border: 1px dotted black;border-radius: 0.25em;box-sizing: border-box;margin-bottom: 0.5em;}#sk-container-id-8 div.sk-estimator:hover {background-color: #d4ebff;}#sk-container-id-8 div.sk-parallel-item::after {content: \"\";width: 100%;border-bottom: 1px solid gray;flex-grow: 1;}#sk-container-id-8 div.sk-label:hover label.sk-toggleable__label {background-color: #d4ebff;}#sk-container-id-8 div.sk-serial::before {content: \"\";position: absolute;border-left: 1px solid gray;box-sizing: border-box;top: 0;bottom: 0;left: 50%;z-index: 0;}#sk-container-id-8 div.sk-serial {display: flex;flex-direction: column;align-items: center;background-color: white;padding-right: 0.2em;padding-left: 0.2em;position: relative;}#sk-container-id-8 div.sk-item {position: relative;z-index: 1;}#sk-container-id-8 div.sk-parallel {display: flex;align-items: stretch;justify-content: center;background-color: white;position: relative;}#sk-container-id-8 div.sk-item::before, #sk-container-id-8 div.sk-parallel-item::before {content: \"\";position: absolute;border-left: 1px solid gray;box-sizing: border-box;top: 0;bottom: 0;left: 50%;z-index: -1;}#sk-container-id-8 div.sk-parallel-item {display: flex;flex-direction: column;z-index: 1;position: relative;background-color: white;}#sk-container-id-8 div.sk-parallel-item:first-child::after {align-self: flex-end;width: 50%;}#sk-container-id-8 div.sk-parallel-item:last-child::after {align-self: flex-start;width: 50%;}#sk-container-id-8 div.sk-parallel-item:only-child::after {width: 0;}#sk-container-id-8 div.sk-dashed-wrapped {border: 1px dashed gray;margin: 0 0.4em 0.5em 0.4em;box-sizing: border-box;padding-bottom: 0.4em;background-color: white;}#sk-container-id-8 div.sk-label label {font-family: monospace;font-weight: bold;display: inline-block;line-height: 1.2em;}#sk-container-id-8 div.sk-label-container {text-align: center;}#sk-container-id-8 div.sk-container {/* jupyter's `normalize.less` sets `[hidden] { display: none; }` but bootstrap.min.css set `[hidden] { display: none !important; }` so we also need the `!important` here to be able to override the default hidden behavior on the sphinx rendered scikit-learn.org. See: https://github.com/scikit-learn/scikit-learn/issues/21755 */display: inline-block !important;position: relative;}#sk-container-id-8 div.sk-text-repr-fallback {display: none;}</style><div id=\"sk-container-id-8\" class=\"sk-top-container\"><div class=\"sk-text-repr-fallback\"><pre>XGBRegressor(base_score=None, booster=None, callbacks=None,\n",
       "             colsample_bylevel=None, colsample_bynode=None,\n",
       "             colsample_bytree=None, device=None, early_stopping_rounds=None,\n",
       "             enable_categorical=False, eval_metric=None, feature_types=None,\n",
       "             gamma=None, grow_policy=None, importance_type=None,\n",
       "             interaction_constraints=None, learning_rate=None, max_bin=None,\n",
       "             max_cat_threshold=None, max_cat_to_onehot=None,\n",
       "             max_delta_step=None, max_depth=None, max_leaves=None,\n",
       "             min_child_weight=None, missing=nan, monotone_constraints=None,\n",
       "             multi_strategy=None, n_estimators=None, n_jobs=None,\n",
       "             num_parallel_tree=None, random_state=42, ...)</pre><b>In a Jupyter environment, please rerun this cell to show the HTML representation or trust the notebook. <br />On GitHub, the HTML representation is unable to render, please try loading this page with nbviewer.org.</b></div><div class=\"sk-container\" hidden><div class=\"sk-item\"><div class=\"sk-estimator sk-toggleable\"><input class=\"sk-toggleable__control sk-hidden--visually\" id=\"sk-estimator-id-8\" type=\"checkbox\" checked><label for=\"sk-estimator-id-8\" class=\"sk-toggleable__label sk-toggleable__label-arrow\">XGBRegressor</label><div class=\"sk-toggleable__content\"><pre>XGBRegressor(base_score=None, booster=None, callbacks=None,\n",
       "             colsample_bylevel=None, colsample_bynode=None,\n",
       "             colsample_bytree=None, device=None, early_stopping_rounds=None,\n",
       "             enable_categorical=False, eval_metric=None, feature_types=None,\n",
       "             gamma=None, grow_policy=None, importance_type=None,\n",
       "             interaction_constraints=None, learning_rate=None, max_bin=None,\n",
       "             max_cat_threshold=None, max_cat_to_onehot=None,\n",
       "             max_delta_step=None, max_depth=None, max_leaves=None,\n",
       "             min_child_weight=None, missing=nan, monotone_constraints=None,\n",
       "             multi_strategy=None, n_estimators=None, n_jobs=None,\n",
       "             num_parallel_tree=None, random_state=42, ...)</pre></div></div></div></div></div>"
      ],
      "text/plain": [
       "XGBRegressor(base_score=None, booster=None, callbacks=None,\n",
       "             colsample_bylevel=None, colsample_bynode=None,\n",
       "             colsample_bytree=None, device=None, early_stopping_rounds=None,\n",
       "             enable_categorical=False, eval_metric=None, feature_types=None,\n",
       "             gamma=None, grow_policy=None, importance_type=None,\n",
       "             interaction_constraints=None, learning_rate=None, max_bin=None,\n",
       "             max_cat_threshold=None, max_cat_to_onehot=None,\n",
       "             max_delta_step=None, max_depth=None, max_leaves=None,\n",
       "             min_child_weight=None, missing=nan, monotone_constraints=None,\n",
       "             multi_strategy=None, n_estimators=None, n_jobs=None,\n",
       "             num_parallel_tree=None, random_state=42, ...)"
      ]
     },
     "execution_count": 96,
     "metadata": {},
     "output_type": "execute_result"
    }
   ],
   "source": [
    "XGB_model.fit(X_train, y_train)"
   ]
  },
  {
   "cell_type": "code",
   "execution_count": 97,
   "id": "b62dcea8",
   "metadata": {},
   "outputs": [],
   "source": [
    "XGB_pred = XGB_model.predict(X_test)"
   ]
  },
  {
   "cell_type": "code",
   "execution_count": 104,
   "id": "14807e9c",
   "metadata": {
    "collapsed": true
   },
   "outputs": [
    {
     "name": "stdout",
     "output_type": "stream",
     "text": [
      "Train Score:0.999949002476155\n",
      "Valid Score:0.15618732059960394\n",
      "MAE: 2.3243008543837798\n"
     ]
    },
    {
     "ename": "ValueError",
     "evalue": "Classification metrics can't handle a mix of multiclass and continuous targets",
     "output_type": "error",
     "traceback": [
      "\u001b[1;31m---------------------------------------------------------------------------\u001b[0m",
      "\u001b[1;31mValueError\u001b[0m                                Traceback (most recent call last)",
      "Cell \u001b[1;32mIn[104], line 5\u001b[0m\n\u001b[0;32m      3\u001b[0m \u001b[38;5;28mprint\u001b[39m(\u001b[38;5;124mf\u001b[39m\u001b[38;5;124m'\u001b[39m\u001b[38;5;124mValid Score:\u001b[39m\u001b[38;5;132;01m{\u001b[39;00mXGB_model\u001b[38;5;241m.\u001b[39mscore(X_test,\u001b[38;5;250m \u001b[39my_test)\u001b[38;5;132;01m}\u001b[39;00m\u001b[38;5;124m'\u001b[39m)\n\u001b[0;32m      4\u001b[0m \u001b[38;5;28mprint\u001b[39m(\u001b[38;5;124mf\u001b[39m\u001b[38;5;124m'\u001b[39m\u001b[38;5;124mMAE: \u001b[39m\u001b[38;5;132;01m{\u001b[39;00mmean_absolute_error(y_test,\u001b[38;5;250m \u001b[39mXGB_pred)\u001b[38;5;132;01m}\u001b[39;00m\u001b[38;5;124m'\u001b[39m)\n\u001b[1;32m----> 5\u001b[0m \u001b[38;5;28mprint\u001b[39m(\u001b[38;5;124m'\u001b[39m\u001b[38;5;124mValid MCC matthews_corrcoef score:\u001b[39m\u001b[38;5;124m'\u001b[39m, matthews_corrcoef(y_test ,XGB_pred))\n",
      "File \u001b[1;32mD:\\Programy\\anaconda3\\Lib\\site-packages\\sklearn\\utils\\_param_validation.py:211\u001b[0m, in \u001b[0;36mvalidate_params.<locals>.decorator.<locals>.wrapper\u001b[1;34m(*args, **kwargs)\u001b[0m\n\u001b[0;32m    205\u001b[0m \u001b[38;5;28;01mtry\u001b[39;00m:\n\u001b[0;32m    206\u001b[0m     \u001b[38;5;28;01mwith\u001b[39;00m config_context(\n\u001b[0;32m    207\u001b[0m         skip_parameter_validation\u001b[38;5;241m=\u001b[39m(\n\u001b[0;32m    208\u001b[0m             prefer_skip_nested_validation \u001b[38;5;129;01mor\u001b[39;00m global_skip_validation\n\u001b[0;32m    209\u001b[0m         )\n\u001b[0;32m    210\u001b[0m     ):\n\u001b[1;32m--> 211\u001b[0m         \u001b[38;5;28;01mreturn\u001b[39;00m func(\u001b[38;5;241m*\u001b[39margs, \u001b[38;5;241m*\u001b[39m\u001b[38;5;241m*\u001b[39mkwargs)\n\u001b[0;32m    212\u001b[0m \u001b[38;5;28;01mexcept\u001b[39;00m InvalidParameterError \u001b[38;5;28;01mas\u001b[39;00m e:\n\u001b[0;32m    213\u001b[0m     \u001b[38;5;66;03m# When the function is just a wrapper around an estimator, we allow\u001b[39;00m\n\u001b[0;32m    214\u001b[0m     \u001b[38;5;66;03m# the function to delegate validation to the estimator, but we replace\u001b[39;00m\n\u001b[0;32m    215\u001b[0m     \u001b[38;5;66;03m# the name of the estimator by the name of the function in the error\u001b[39;00m\n\u001b[0;32m    216\u001b[0m     \u001b[38;5;66;03m# message to avoid confusion.\u001b[39;00m\n\u001b[0;32m    217\u001b[0m     msg \u001b[38;5;241m=\u001b[39m re\u001b[38;5;241m.\u001b[39msub(\n\u001b[0;32m    218\u001b[0m         \u001b[38;5;124mr\u001b[39m\u001b[38;5;124m\"\u001b[39m\u001b[38;5;124mparameter of \u001b[39m\u001b[38;5;124m\\\u001b[39m\u001b[38;5;124mw+ must be\u001b[39m\u001b[38;5;124m\"\u001b[39m,\n\u001b[0;32m    219\u001b[0m         \u001b[38;5;124mf\u001b[39m\u001b[38;5;124m\"\u001b[39m\u001b[38;5;124mparameter of \u001b[39m\u001b[38;5;132;01m{\u001b[39;00mfunc\u001b[38;5;241m.\u001b[39m\u001b[38;5;18m__qualname__\u001b[39m\u001b[38;5;132;01m}\u001b[39;00m\u001b[38;5;124m must be\u001b[39m\u001b[38;5;124m\"\u001b[39m,\n\u001b[0;32m    220\u001b[0m         \u001b[38;5;28mstr\u001b[39m(e),\n\u001b[0;32m    221\u001b[0m     )\n",
      "File \u001b[1;32mD:\\Programy\\anaconda3\\Lib\\site-packages\\sklearn\\metrics\\_classification.py:961\u001b[0m, in \u001b[0;36mmatthews_corrcoef\u001b[1;34m(y_true, y_pred, sample_weight)\u001b[0m\n\u001b[0;32m    890\u001b[0m \u001b[38;5;129m@validate_params\u001b[39m(\n\u001b[0;32m    891\u001b[0m     {\n\u001b[0;32m    892\u001b[0m         \u001b[38;5;124m\"\u001b[39m\u001b[38;5;124my_true\u001b[39m\u001b[38;5;124m\"\u001b[39m: [\u001b[38;5;124m\"\u001b[39m\u001b[38;5;124marray-like\u001b[39m\u001b[38;5;124m\"\u001b[39m],\n\u001b[1;32m   (...)\u001b[0m\n\u001b[0;32m    897\u001b[0m )\n\u001b[0;32m    898\u001b[0m \u001b[38;5;28;01mdef\u001b[39;00m \u001b[38;5;21mmatthews_corrcoef\u001b[39m(y_true, y_pred, \u001b[38;5;241m*\u001b[39m, sample_weight\u001b[38;5;241m=\u001b[39m\u001b[38;5;28;01mNone\u001b[39;00m):\n\u001b[0;32m    899\u001b[0m \u001b[38;5;250m    \u001b[39m\u001b[38;5;124;03m\"\"\"Compute the Matthews correlation coefficient (MCC).\u001b[39;00m\n\u001b[0;32m    900\u001b[0m \n\u001b[0;32m    901\u001b[0m \u001b[38;5;124;03m    The Matthews correlation coefficient is used in machine learning as a\u001b[39;00m\n\u001b[1;32m   (...)\u001b[0m\n\u001b[0;32m    959\u001b[0m \u001b[38;5;124;03m    -0.33...\u001b[39;00m\n\u001b[0;32m    960\u001b[0m \u001b[38;5;124;03m    \"\"\"\u001b[39;00m\n\u001b[1;32m--> 961\u001b[0m     y_type, y_true, y_pred \u001b[38;5;241m=\u001b[39m _check_targets(y_true, y_pred)\n\u001b[0;32m    962\u001b[0m     check_consistent_length(y_true, y_pred, sample_weight)\n\u001b[0;32m    963\u001b[0m     \u001b[38;5;28;01mif\u001b[39;00m y_type \u001b[38;5;129;01mnot\u001b[39;00m \u001b[38;5;129;01min\u001b[39;00m {\u001b[38;5;124m\"\u001b[39m\u001b[38;5;124mbinary\u001b[39m\u001b[38;5;124m\"\u001b[39m, \u001b[38;5;124m\"\u001b[39m\u001b[38;5;124mmulticlass\u001b[39m\u001b[38;5;124m\"\u001b[39m}:\n",
      "File \u001b[1;32mD:\\Programy\\anaconda3\\Lib\\site-packages\\sklearn\\metrics\\_classification.py:93\u001b[0m, in \u001b[0;36m_check_targets\u001b[1;34m(y_true, y_pred)\u001b[0m\n\u001b[0;32m     90\u001b[0m     y_type \u001b[38;5;241m=\u001b[39m {\u001b[38;5;124m\"\u001b[39m\u001b[38;5;124mmulticlass\u001b[39m\u001b[38;5;124m\"\u001b[39m}\n\u001b[0;32m     92\u001b[0m \u001b[38;5;28;01mif\u001b[39;00m \u001b[38;5;28mlen\u001b[39m(y_type) \u001b[38;5;241m>\u001b[39m \u001b[38;5;241m1\u001b[39m:\n\u001b[1;32m---> 93\u001b[0m     \u001b[38;5;28;01mraise\u001b[39;00m \u001b[38;5;167;01mValueError\u001b[39;00m(\n\u001b[0;32m     94\u001b[0m         \u001b[38;5;124m\"\u001b[39m\u001b[38;5;124mClassification metrics can\u001b[39m\u001b[38;5;124m'\u001b[39m\u001b[38;5;124mt handle a mix of \u001b[39m\u001b[38;5;132;01m{0}\u001b[39;00m\u001b[38;5;124m and \u001b[39m\u001b[38;5;132;01m{1}\u001b[39;00m\u001b[38;5;124m targets\u001b[39m\u001b[38;5;124m\"\u001b[39m\u001b[38;5;241m.\u001b[39mformat(\n\u001b[0;32m     95\u001b[0m             type_true, type_pred\n\u001b[0;32m     96\u001b[0m         )\n\u001b[0;32m     97\u001b[0m     )\n\u001b[0;32m     99\u001b[0m \u001b[38;5;66;03m# We can't have more than one value on y_type => The set is no more needed\u001b[39;00m\n\u001b[0;32m    100\u001b[0m y_type \u001b[38;5;241m=\u001b[39m y_type\u001b[38;5;241m.\u001b[39mpop()\n",
      "\u001b[1;31mValueError\u001b[0m: Classification metrics can't handle a mix of multiclass and continuous targets"
     ]
    }
   ],
   "source": [
    "print(f'Train Score:{XGB_model.score(X_train, y_train)}')\n",
    "print(f'Valid Score:{XGB_model.score(X_test, y_test)}')\n",
    "print(f'MAE: {mean_absolute_error(y_test, XGB_pred)}')"
   ]
  },
  {
   "cell_type": "code",
   "execution_count": 32,
   "id": "2be90c9e",
   "metadata": {},
   "outputs": [
    {
     "name": "stdout",
     "output_type": "stream",
     "text": [
      "3.0983587307412805\n"
     ]
    }
   ],
   "source": [
    "mse=mean_squared_error(y_test, XGB_pred)\n",
    "print(np.sqrt(mse))"
   ]
  },
  {
   "cell_type": "code",
   "execution_count": 62,
   "id": "45e9dee6",
   "metadata": {},
   "outputs": [],
   "source": [
    "def display_scores(scores):\n",
    "    print(\"Scores: {0}\\nMean: {1:.3f}\\nStd: {2:.3f}\".format(scores, np.mean(scores), np.std(scores)))"
   ]
  },
  {
   "cell_type": "code",
   "execution_count": null,
   "id": "9b720ceb",
   "metadata": {},
   "outputs": [],
   "source": [
    "# cross-val"
   ]
  },
  {
   "cell_type": "code",
   "execution_count": 99,
   "id": "ff795e53",
   "metadata": {},
   "outputs": [
    {
     "name": "stdout",
     "output_type": "stream",
     "text": [
      "Scores: [3.05934272 3.10445489 3.50067918 2.86057667 3.12576751]\n",
      "Mean: 3.130\n",
      "Std: 0.208\n",
      "RFR- Score 0.7488023794793321\n"
     ]
    }
   ],
   "source": [
    "from sklearn.model_selection import cross_val_score\n",
    "scores = cross_val_score(XGB_model, X, y, scoring=\"neg_mean_squared_error\", cv=5)\n",
    "\n",
    "display_scores(np.sqrt(-scores))\n",
    "print(f'RFR- Score {XGB_model.score(X,y)}')"
   ]
  },
  {
   "cell_type": "code",
   "execution_count": null,
   "id": "46a2ba3e",
   "metadata": {},
   "outputs": [],
   "source": [
    "# cross-val"
   ]
  },
  {
   "cell_type": "code",
   "execution_count": 101,
   "id": "68204cbc",
   "metadata": {},
   "outputs": [
    {
     "data": {
      "text/html": [
       "<style>#sk-container-id-9 {color: black;}#sk-container-id-9 pre{padding: 0;}#sk-container-id-9 div.sk-toggleable {background-color: white;}#sk-container-id-9 label.sk-toggleable__label {cursor: pointer;display: block;width: 100%;margin-bottom: 0;padding: 0.3em;box-sizing: border-box;text-align: center;}#sk-container-id-9 label.sk-toggleable__label-arrow:before {content: \"▸\";float: left;margin-right: 0.25em;color: #696969;}#sk-container-id-9 label.sk-toggleable__label-arrow:hover:before {color: black;}#sk-container-id-9 div.sk-estimator:hover label.sk-toggleable__label-arrow:before {color: black;}#sk-container-id-9 div.sk-toggleable__content {max-height: 0;max-width: 0;overflow: hidden;text-align: left;background-color: #f0f8ff;}#sk-container-id-9 div.sk-toggleable__content pre {margin: 0.2em;color: black;border-radius: 0.25em;background-color: #f0f8ff;}#sk-container-id-9 input.sk-toggleable__control:checked~div.sk-toggleable__content {max-height: 200px;max-width: 100%;overflow: auto;}#sk-container-id-9 input.sk-toggleable__control:checked~label.sk-toggleable__label-arrow:before {content: \"▾\";}#sk-container-id-9 div.sk-estimator input.sk-toggleable__control:checked~label.sk-toggleable__label {background-color: #d4ebff;}#sk-container-id-9 div.sk-label input.sk-toggleable__control:checked~label.sk-toggleable__label {background-color: #d4ebff;}#sk-container-id-9 input.sk-hidden--visually {border: 0;clip: rect(1px 1px 1px 1px);clip: rect(1px, 1px, 1px, 1px);height: 1px;margin: -1px;overflow: hidden;padding: 0;position: absolute;width: 1px;}#sk-container-id-9 div.sk-estimator {font-family: monospace;background-color: #f0f8ff;border: 1px dotted black;border-radius: 0.25em;box-sizing: border-box;margin-bottom: 0.5em;}#sk-container-id-9 div.sk-estimator:hover {background-color: #d4ebff;}#sk-container-id-9 div.sk-parallel-item::after {content: \"\";width: 100%;border-bottom: 1px solid gray;flex-grow: 1;}#sk-container-id-9 div.sk-label:hover label.sk-toggleable__label {background-color: #d4ebff;}#sk-container-id-9 div.sk-serial::before {content: \"\";position: absolute;border-left: 1px solid gray;box-sizing: border-box;top: 0;bottom: 0;left: 50%;z-index: 0;}#sk-container-id-9 div.sk-serial {display: flex;flex-direction: column;align-items: center;background-color: white;padding-right: 0.2em;padding-left: 0.2em;position: relative;}#sk-container-id-9 div.sk-item {position: relative;z-index: 1;}#sk-container-id-9 div.sk-parallel {display: flex;align-items: stretch;justify-content: center;background-color: white;position: relative;}#sk-container-id-9 div.sk-item::before, #sk-container-id-9 div.sk-parallel-item::before {content: \"\";position: absolute;border-left: 1px solid gray;box-sizing: border-box;top: 0;bottom: 0;left: 50%;z-index: -1;}#sk-container-id-9 div.sk-parallel-item {display: flex;flex-direction: column;z-index: 1;position: relative;background-color: white;}#sk-container-id-9 div.sk-parallel-item:first-child::after {align-self: flex-end;width: 50%;}#sk-container-id-9 div.sk-parallel-item:last-child::after {align-self: flex-start;width: 50%;}#sk-container-id-9 div.sk-parallel-item:only-child::after {width: 0;}#sk-container-id-9 div.sk-dashed-wrapped {border: 1px dashed gray;margin: 0 0.4em 0.5em 0.4em;box-sizing: border-box;padding-bottom: 0.4em;background-color: white;}#sk-container-id-9 div.sk-label label {font-family: monospace;font-weight: bold;display: inline-block;line-height: 1.2em;}#sk-container-id-9 div.sk-label-container {text-align: center;}#sk-container-id-9 div.sk-container {/* jupyter's `normalize.less` sets `[hidden] { display: none; }` but bootstrap.min.css set `[hidden] { display: none !important; }` so we also need the `!important` here to be able to override the default hidden behavior on the sphinx rendered scikit-learn.org. See: https://github.com/scikit-learn/scikit-learn/issues/21755 */display: inline-block !important;position: relative;}#sk-container-id-9 div.sk-text-repr-fallback {display: none;}</style><div id=\"sk-container-id-9\" class=\"sk-top-container\"><div class=\"sk-text-repr-fallback\"><pre>XGBRegressor(base_score=None, booster=None, callbacks=None,\n",
       "             colsample_bylevel=None, colsample_bynode=None,\n",
       "             colsample_bytree=None, device=None, early_stopping_rounds=None,\n",
       "             enable_categorical=False, eval_metric=None, feature_types=None,\n",
       "             gamma=None, grow_policy=None, importance_type=None,\n",
       "             interaction_constraints=None, learning_rate=None, max_bin=None,\n",
       "             max_cat_threshold=None, max_cat_to_onehot=None,\n",
       "             max_delta_step=None, max_depth=None, max_leaves=None,\n",
       "             min_child_weight=None, missing=nan, monotone_constraints=None,\n",
       "             multi_strategy=None, n_estimators=None, n_jobs=None,\n",
       "             num_parallel_tree=None, random_state=42, ...)</pre><b>In a Jupyter environment, please rerun this cell to show the HTML representation or trust the notebook. <br />On GitHub, the HTML representation is unable to render, please try loading this page with nbviewer.org.</b></div><div class=\"sk-container\" hidden><div class=\"sk-item\"><div class=\"sk-estimator sk-toggleable\"><input class=\"sk-toggleable__control sk-hidden--visually\" id=\"sk-estimator-id-9\" type=\"checkbox\" checked><label for=\"sk-estimator-id-9\" class=\"sk-toggleable__label sk-toggleable__label-arrow\">XGBRegressor</label><div class=\"sk-toggleable__content\"><pre>XGBRegressor(base_score=None, booster=None, callbacks=None,\n",
       "             colsample_bylevel=None, colsample_bynode=None,\n",
       "             colsample_bytree=None, device=None, early_stopping_rounds=None,\n",
       "             enable_categorical=False, eval_metric=None, feature_types=None,\n",
       "             gamma=None, grow_policy=None, importance_type=None,\n",
       "             interaction_constraints=None, learning_rate=None, max_bin=None,\n",
       "             max_cat_threshold=None, max_cat_to_onehot=None,\n",
       "             max_delta_step=None, max_depth=None, max_leaves=None,\n",
       "             min_child_weight=None, missing=nan, monotone_constraints=None,\n",
       "             multi_strategy=None, n_estimators=None, n_jobs=None,\n",
       "             num_parallel_tree=None, random_state=42, ...)</pre></div></div></div></div></div>"
      ],
      "text/plain": [
       "XGBRegressor(base_score=None, booster=None, callbacks=None,\n",
       "             colsample_bylevel=None, colsample_bynode=None,\n",
       "             colsample_bytree=None, device=None, early_stopping_rounds=None,\n",
       "             enable_categorical=False, eval_metric=None, feature_types=None,\n",
       "             gamma=None, grow_policy=None, importance_type=None,\n",
       "             interaction_constraints=None, learning_rate=None, max_bin=None,\n",
       "             max_cat_threshold=None, max_cat_to_onehot=None,\n",
       "             max_delta_step=None, max_depth=None, max_leaves=None,\n",
       "             min_child_weight=None, missing=nan, monotone_constraints=None,\n",
       "             multi_strategy=None, n_estimators=None, n_jobs=None,\n",
       "             num_parallel_tree=None, random_state=42, ...)"
      ]
     },
     "execution_count": 101,
     "metadata": {},
     "output_type": "execute_result"
    }
   ],
   "source": [
    "XGB_model_2 = xgb.XGBRegressor(random_state=42)\n",
    "XGB_model_2.fit(X, y)"
   ]
  },
  {
   "cell_type": "code",
   "execution_count": 102,
   "id": "430aa662",
   "metadata": {},
   "outputs": [
    {
     "name": "stdout",
     "output_type": "stream",
     "text": [
      "ROC-AUC- The 10-fold average of ROC-AUC score of the Logistic Regression model is nan\n",
      "ROC-AUC- The 10-fold std of ROC-AUC score of the Logistic Regression model is nan\n",
      "MAE -The 10-fold average of MAE score of the Logistic Regression model is -2.4028966664138918\n",
      "MSE -The 10-fold average of MSE score of the Logistic Regression model is nan\n",
      "RFR- Score 0.9996706037322938\n"
     ]
    }
   ],
   "source": [
    "from sklearn.model_selection import KFold, StratifiedKFold, GridSearchCV, RepeatedStratifiedKFold\n",
    "skf = RepeatedStratifiedKFold(n_splits=3, n_repeats=1, random_state=42)\n",
    "\n",
    "RFR_cv = cross_val_score(XGB_model_2, X, y, cv=skf, scoring='roc_auc', n_jobs=-1)\n",
    "\n",
    "# # ROC_AUC\n",
    "print(f\"ROC-AUC- The 10-fold average of ROC-AUC score of the Logistic Regression model is {RFR_cv.mean()}\")\n",
    "print(f\"ROC-AUC- The 10-fold std of ROC-AUC score of the Logistic Regression model is {RFR_cv.std()}\")\n",
    "# MAE\n",
    "RFR_mae = cross_val_score(XGB_model_2, X, y, cv=skf, scoring='neg_mean_absolute_error', n_jobs=-1)\n",
    "print(f\"MAE -The 10-fold average of MAE score of the Logistic Regression model is {RFR_mae.mean()}\")\n",
    "# MSE\n",
    "RFR_mse = cross_val_score(XGB_model_2, X, y, cv=skf, scoring='neg_mean_squared_log_error', n_jobs=-1)\n",
    "print(f\"MSE -The 10-fold average of MSE score of the Logistic Regression model is {RFR_mse.mean()}\")\n",
    "\n",
    "# # SCORE\n",
    "# RFR_2.fit(X, y)\n",
    "print(f'RFR- Score {XGB_model_2.score(X,y)}')"
   ]
  },
  {
   "cell_type": "markdown",
   "id": "6f30b536",
   "metadata": {},
   "source": [
    "# RandomForestClassifier"
   ]
  },
  {
   "cell_type": "code",
   "execution_count": 31,
   "id": "da8b62ec",
   "metadata": {},
   "outputs": [],
   "source": [
    "from sklearn.ensemble import RandomForestClassifier\n",
    "from sklearn.metrics import adjusted_mutual_info_score"
   ]
  },
  {
   "cell_type": "code",
   "execution_count": 32,
   "id": "e92e34b1",
   "metadata": {},
   "outputs": [],
   "source": [
    "RFC_model = RandomForestClassifier(random_state=42)"
   ]
  },
  {
   "cell_type": "code",
   "execution_count": 33,
   "id": "a8827c8d",
   "metadata": {},
   "outputs": [
    {
     "data": {
      "text/html": [
       "<style>#sk-container-id-2 {color: black;}#sk-container-id-2 pre{padding: 0;}#sk-container-id-2 div.sk-toggleable {background-color: white;}#sk-container-id-2 label.sk-toggleable__label {cursor: pointer;display: block;width: 100%;margin-bottom: 0;padding: 0.3em;box-sizing: border-box;text-align: center;}#sk-container-id-2 label.sk-toggleable__label-arrow:before {content: \"▸\";float: left;margin-right: 0.25em;color: #696969;}#sk-container-id-2 label.sk-toggleable__label-arrow:hover:before {color: black;}#sk-container-id-2 div.sk-estimator:hover label.sk-toggleable__label-arrow:before {color: black;}#sk-container-id-2 div.sk-toggleable__content {max-height: 0;max-width: 0;overflow: hidden;text-align: left;background-color: #f0f8ff;}#sk-container-id-2 div.sk-toggleable__content pre {margin: 0.2em;color: black;border-radius: 0.25em;background-color: #f0f8ff;}#sk-container-id-2 input.sk-toggleable__control:checked~div.sk-toggleable__content {max-height: 200px;max-width: 100%;overflow: auto;}#sk-container-id-2 input.sk-toggleable__control:checked~label.sk-toggleable__label-arrow:before {content: \"▾\";}#sk-container-id-2 div.sk-estimator input.sk-toggleable__control:checked~label.sk-toggleable__label {background-color: #d4ebff;}#sk-container-id-2 div.sk-label input.sk-toggleable__control:checked~label.sk-toggleable__label {background-color: #d4ebff;}#sk-container-id-2 input.sk-hidden--visually {border: 0;clip: rect(1px 1px 1px 1px);clip: rect(1px, 1px, 1px, 1px);height: 1px;margin: -1px;overflow: hidden;padding: 0;position: absolute;width: 1px;}#sk-container-id-2 div.sk-estimator {font-family: monospace;background-color: #f0f8ff;border: 1px dotted black;border-radius: 0.25em;box-sizing: border-box;margin-bottom: 0.5em;}#sk-container-id-2 div.sk-estimator:hover {background-color: #d4ebff;}#sk-container-id-2 div.sk-parallel-item::after {content: \"\";width: 100%;border-bottom: 1px solid gray;flex-grow: 1;}#sk-container-id-2 div.sk-label:hover label.sk-toggleable__label {background-color: #d4ebff;}#sk-container-id-2 div.sk-serial::before {content: \"\";position: absolute;border-left: 1px solid gray;box-sizing: border-box;top: 0;bottom: 0;left: 50%;z-index: 0;}#sk-container-id-2 div.sk-serial {display: flex;flex-direction: column;align-items: center;background-color: white;padding-right: 0.2em;padding-left: 0.2em;position: relative;}#sk-container-id-2 div.sk-item {position: relative;z-index: 1;}#sk-container-id-2 div.sk-parallel {display: flex;align-items: stretch;justify-content: center;background-color: white;position: relative;}#sk-container-id-2 div.sk-item::before, #sk-container-id-2 div.sk-parallel-item::before {content: \"\";position: absolute;border-left: 1px solid gray;box-sizing: border-box;top: 0;bottom: 0;left: 50%;z-index: -1;}#sk-container-id-2 div.sk-parallel-item {display: flex;flex-direction: column;z-index: 1;position: relative;background-color: white;}#sk-container-id-2 div.sk-parallel-item:first-child::after {align-self: flex-end;width: 50%;}#sk-container-id-2 div.sk-parallel-item:last-child::after {align-self: flex-start;width: 50%;}#sk-container-id-2 div.sk-parallel-item:only-child::after {width: 0;}#sk-container-id-2 div.sk-dashed-wrapped {border: 1px dashed gray;margin: 0 0.4em 0.5em 0.4em;box-sizing: border-box;padding-bottom: 0.4em;background-color: white;}#sk-container-id-2 div.sk-label label {font-family: monospace;font-weight: bold;display: inline-block;line-height: 1.2em;}#sk-container-id-2 div.sk-label-container {text-align: center;}#sk-container-id-2 div.sk-container {/* jupyter's `normalize.less` sets `[hidden] { display: none; }` but bootstrap.min.css set `[hidden] { display: none !important; }` so we also need the `!important` here to be able to override the default hidden behavior on the sphinx rendered scikit-learn.org. See: https://github.com/scikit-learn/scikit-learn/issues/21755 */display: inline-block !important;position: relative;}#sk-container-id-2 div.sk-text-repr-fallback {display: none;}</style><div id=\"sk-container-id-2\" class=\"sk-top-container\"><div class=\"sk-text-repr-fallback\"><pre>RandomForestClassifier(random_state=42)</pre><b>In a Jupyter environment, please rerun this cell to show the HTML representation or trust the notebook. <br />On GitHub, the HTML representation is unable to render, please try loading this page with nbviewer.org.</b></div><div class=\"sk-container\" hidden><div class=\"sk-item\"><div class=\"sk-estimator sk-toggleable\"><input class=\"sk-toggleable__control sk-hidden--visually\" id=\"sk-estimator-id-2\" type=\"checkbox\" checked><label for=\"sk-estimator-id-2\" class=\"sk-toggleable__label sk-toggleable__label-arrow\">RandomForestClassifier</label><div class=\"sk-toggleable__content\"><pre>RandomForestClassifier(random_state=42)</pre></div></div></div></div></div>"
      ],
      "text/plain": [
       "RandomForestClassifier(random_state=42)"
      ]
     },
     "execution_count": 33,
     "metadata": {},
     "output_type": "execute_result"
    }
   ],
   "source": [
    "RFC_model.fit(X_train, y_train)"
   ]
  },
  {
   "cell_type": "code",
   "execution_count": 111,
   "id": "8332dc83",
   "metadata": {},
   "outputs": [],
   "source": [
    "# Test data"
   ]
  },
  {
   "cell_type": "code",
   "execution_count": 34,
   "id": "053d65fa",
   "metadata": {},
   "outputs": [],
   "source": [
    "RFC_pred = RFC_model.predict(X_test)"
   ]
  },
  {
   "cell_type": "code",
   "execution_count": 35,
   "id": "9c58561e",
   "metadata": {},
   "outputs": [
    {
     "name": "stdout",
     "output_type": "stream",
     "text": [
      "MAE: 2.619718309859155\n",
      "Training Accuracy: 0.30985915492957744\n",
      "Adjusted_mutual_info_score: 0.16499630896788467\n"
     ]
    }
   ],
   "source": [
    "RFC_pred = RFC_model.predict(X_test)\n",
    "print(f'MAE: {mean_absolute_error(y_test, RFC_pred)}')\n",
    "print(\"Training Accuracy:\", accuracy_score(y_test, RFC_pred))\n",
    "print(\"Adjusted_mutual_info_score:\", adjusted_mutual_info_score(y_test, RFC_pred))"
   ]
  },
  {
   "cell_type": "code",
   "execution_count": 36,
   "id": "6f59b29c",
   "metadata": {},
   "outputs": [
    {
     "name": "stdout",
     "output_type": "stream",
     "text": [
      "Valid MCC matthews_corrcoef score: 0.2418830838656464\n"
     ]
    }
   ],
   "source": [
    "from sklearn.metrics import matthews_corrcoef\n",
    "print('Valid MCC matthews_corrcoef score:', matthews_corrcoef(y_test ,RFC_pred))"
   ]
  },
  {
   "cell_type": "code",
   "execution_count": 42,
   "id": "c44afc28",
   "metadata": {},
   "outputs": [
    {
     "data": {
      "text/plain": [
       "{'bootstrap': True,\n",
       " 'ccp_alpha': 0.0,\n",
       " 'class_weight': None,\n",
       " 'criterion': 'gini',\n",
       " 'max_depth': None,\n",
       " 'max_features': 'sqrt',\n",
       " 'max_leaf_nodes': None,\n",
       " 'max_samples': None,\n",
       " 'min_impurity_decrease': 0.0,\n",
       " 'min_samples_leaf': 1,\n",
       " 'min_samples_split': 2,\n",
       " 'min_weight_fraction_leaf': 0.0,\n",
       " 'n_estimators': 100,\n",
       " 'n_jobs': None,\n",
       " 'oob_score': False,\n",
       " 'random_state': 42,\n",
       " 'verbose': 0,\n",
       " 'warm_start': False}"
      ]
     },
     "execution_count": 42,
     "metadata": {},
     "output_type": "execute_result"
    }
   ],
   "source": [
    "RFC_model.get_params()"
   ]
  },
  {
   "cell_type": "markdown",
   "id": "ba870994",
   "metadata": {},
   "source": [
    "# RandomForestRegresor"
   ]
  },
  {
   "cell_type": "code",
   "execution_count": 37,
   "id": "50765465",
   "metadata": {},
   "outputs": [],
   "source": [
    "from sklearn.ensemble import RandomForestRegressor\n",
    "from sklearn.metrics import mean_absolute_error\n",
    "from sklearn.metrics import accuracy_score, roc_auc_score, roc_curve, RocCurveDisplay,  log_loss, f1_score, r2_score"
   ]
  },
  {
   "cell_type": "code",
   "execution_count": 38,
   "id": "e4432f49",
   "metadata": {},
   "outputs": [],
   "source": [
    "RFR_model = RandomForestRegressor(random_state=42)"
   ]
  },
  {
   "cell_type": "code",
   "execution_count": 39,
   "id": "596c98f3",
   "metadata": {},
   "outputs": [],
   "source": [
    "RFR=RFR_model.fit(X_train, y_train)"
   ]
  },
  {
   "cell_type": "code",
   "execution_count": 40,
   "id": "324e6648",
   "metadata": {},
   "outputs": [],
   "source": [
    "RFR_predict = RFR.predict(X_test)"
   ]
  },
  {
   "cell_type": "code",
   "execution_count": 41,
   "id": "9ae5d716",
   "metadata": {},
   "outputs": [
    {
     "name": "stdout",
     "output_type": "stream",
     "text": [
      "Train Score:0.893264255252321\n",
      "Valid Score:0.2056859531669708\n",
      "MAE: 2.3207746478873235\n"
     ]
    }
   ],
   "source": [
    "print(f'Train Score:{RFR_model.score(X_train, y_train)}')\n",
    "print(f'Valid Score:{RFR_model.score(X_test, y_test)}')\n",
    "print(f'MAE: {mean_absolute_error(y_test, RFR_predict)}')"
   ]
  },
  {
   "cell_type": "code",
   "execution_count": 116,
   "id": "4966970a",
   "metadata": {},
   "outputs": [],
   "source": [
    "RFR_model_2 = RandomForestRegressor(random_state=42)\n",
    "RFR_2 = RFR_model_2.fit(X, y)"
   ]
  },
  {
   "cell_type": "code",
   "execution_count": 136,
   "id": "e9f16aa3",
   "metadata": {
    "collapsed": true
   },
   "outputs": [
    {
     "ename": "TypeError",
     "evalue": "cross_val_score() got an unexpected keyword argument 'random_state'",
     "output_type": "error",
     "traceback": [
      "\u001b[1;31m---------------------------------------------------------------------------\u001b[0m",
      "\u001b[1;31mTypeError\u001b[0m                                 Traceback (most recent call last)",
      "Cell \u001b[1;32mIn[136], line 1\u001b[0m\n\u001b[1;32m----> 1\u001b[0m cv_scores \u001b[38;5;241m=\u001b[39m cross_val_score(RFR, X, y, \n\u001b[0;32m      2\u001b[0m                             cv\u001b[38;5;241m=\u001b[39m\u001b[38;5;241m5\u001b[39m,\n\u001b[0;32m      3\u001b[0m                             scoring\u001b[38;5;241m=\u001b[39m\u001b[38;5;124m'\u001b[39m\u001b[38;5;124maccuracy\u001b[39m\u001b[38;5;124m'\u001b[39m, random_state\u001b[38;5;241m=\u001b[39m\u001b[38;5;241m42\u001b[39m)\n\u001b[0;32m      5\u001b[0m \u001b[38;5;28mprint\u001b[39m(\u001b[38;5;124m\"\u001b[39m\u001b[38;5;124mAccuracy scores:\u001b[39m\u001b[38;5;130;01m\\n\u001b[39;00m\u001b[38;5;124m\"\u001b[39m, scores)\n\u001b[0;32m      6\u001b[0m \u001b[38;5;28mprint\u001b[39m(\u001b[38;5;124m\"\u001b[39m\u001b[38;5;124mCross-validation accuracy: \u001b[39m\u001b[38;5;132;01m%f\u001b[39;00m\u001b[38;5;124m\"\u001b[39m \u001b[38;5;241m%\u001b[39m cv_scores\u001b[38;5;241m.\u001b[39mmean())\n",
      "\u001b[1;31mTypeError\u001b[0m: cross_val_score() got an unexpected keyword argument 'random_state'"
     ]
    }
   ],
   "source": [
    "cv_scores = cross_val_score(RFR, X, y, \n",
    "                            cv=5,\n",
    "                            scoring='accuracy')\n",
    "\n",
    "print(\"Accuracy scores:\\n\", scores)\n",
    "print(\"Cross-validation accuracy: %f\" % cv_scores.mean())"
   ]
  },
  {
   "cell_type": "code",
   "execution_count": 137,
   "id": "4f2f3f20",
   "metadata": {},
   "outputs": [
    {
     "name": "stdout",
     "output_type": "stream",
     "text": [
      "ROC-AUC- The 10-fold average of ROC-AUC score of the Logistic Regression model is nan\n",
      "ROC-AUC- The 10-fold std of ROC-AUC score of the Logistic Regression model is nan\n",
      "MAE -The 10-fold average of MAE score of the Logistic Regression model is -2.3409699483110953\n",
      "MSE -The 10-fold average of MSE score of the Logistic Regression model is -0.3432977407214916\n",
      "RFR- Score 0.892670743909153\n"
     ]
    }
   ],
   "source": [
    "from sklearn.model_selection import KFold, StratifiedKFold, GridSearchCV, RepeatedStratifiedKFold\n",
    "skf = RepeatedStratifiedKFold(n_splits=3, n_repeats=1, random_state=42)\n",
    "\n",
    "RFR_cv = cross_val_score(RFR, X, y, cv=skf, scoring='roc_auc', n_jobs=-1)\n",
    "\n",
    "# # ROC_AUC\n",
    "\n",
    "print(f\"ROC-AUC- The 10-fold average of ROC-AUC score of the Logistic Regression model is {RFR_cv.mean()}\")\n",
    "print(f\"ROC-AUC- The 10-fold std of ROC-AUC score of the Logistic Regression model is {RFR_cv.std()}\")\n",
    "# MAE\n",
    "RFR_mae = cross_val_score(RFR, X, y, cv=skf, scoring='neg_mean_absolute_error', n_jobs=-1)\n",
    "print(f\"MAE -The 10-fold average of MAE score of the Logistic Regression model is {RFR_mae.mean()}\")\n",
    "# MSE\n",
    "RFR_mse = cross_val_score(RFR, X, y, cv=skf, scoring='neg_mean_squared_log_error', n_jobs=-1)\n",
    "print(f\"MSE -The 10-fold average of MSE score of the Logistic Regression model is {RFR_mse.mean()}\")\n",
    "\n",
    "# # SCORE\n",
    "RFR.fit(X, y)\n",
    "print(f'RFR- Score {RFR_2.score(X,y)}')"
   ]
  },
  {
   "cell_type": "markdown",
   "id": "2b1a295d",
   "metadata": {},
   "source": [
    "# RandomizedSearchCV"
   ]
  },
  {
   "cell_type": "code",
   "execution_count": 43,
   "id": "64251ddb",
   "metadata": {},
   "outputs": [
    {
     "data": {
      "text/plain": [
       "{'bootstrap': True,\n",
       " 'ccp_alpha': 0.0,\n",
       " 'class_weight': None,\n",
       " 'criterion': 'gini',\n",
       " 'max_depth': None,\n",
       " 'max_features': 'sqrt',\n",
       " 'max_leaf_nodes': None,\n",
       " 'max_samples': None,\n",
       " 'min_impurity_decrease': 0.0,\n",
       " 'min_samples_leaf': 1,\n",
       " 'min_samples_split': 2,\n",
       " 'min_weight_fraction_leaf': 0.0,\n",
       " 'n_estimators': 100,\n",
       " 'n_jobs': None,\n",
       " 'oob_score': False,\n",
       " 'random_state': 42,\n",
       " 'verbose': 0,\n",
       " 'warm_start': False}"
      ]
     },
     "execution_count": 43,
     "metadata": {},
     "output_type": "execute_result"
    }
   ],
   "source": [
    "RFC_model.get_params()"
   ]
  },
  {
   "cell_type": "code",
   "execution_count": null,
   "id": "e20c7dd0",
   "metadata": {},
   "outputs": [],
   "source": [
    "# clf = RandomizedSearchCV(RFC_model,  random_state=42)\n",
    "# search = clf.fit(X_train)\n",
    "# search.best_params_"
   ]
  },
  {
   "cell_type": "code",
   "execution_count": null,
   "id": "3eefb27a",
   "metadata": {},
   "outputs": [],
   "source": [
    "# random_param_1 = {\n",
    "#     'max_depth': range(2,10),\n",
    "#     'learning_rate': np.logspace(np.log10(0.005), np.log10(0.5), base = 10, num = 1000),\n",
    "#     'n_estimators': range(100, 1000, 50),\n",
    "#     'gamma': np.linspace(0, 0.4, 6),\n",
    "#     'min_child_weight': range(1,100,5),\n",
    "#     'subsample': np.linspace(0.5, 1, 101),\n",
    "#     'colsample_bytree': np.linspace(0.6, 1, 11),\n",
    "#     'colsample_bylevel': np.linspace(0.6, 1, 11),\n",
    "#     'reg_alpha': np.linspace(0, 1),\n",
    "#     'reg_lambda': np.linspace(0, 1),\n",
    "#     'tree_method': ['gpu_hist']\n",
    "# }"
   ]
  },
  {
   "cell_type": "code",
   "execution_count": 44,
   "id": "55e52fb6",
   "metadata": {},
   "outputs": [],
   "source": [
    "random_param_1 = {'bootstrap': [True, False],\n",
    "               'max_depth': [10, 20, 30, 40, 50, 60, 70, 80, 90, 100, 110, None],\n",
    "               'max_features': ['auto', 'sqrt'],\n",
    "               'min_samples_leaf': [1, 2, 4],\n",
    "               'min_samples_split': [2, 5, 10],\n",
    "               'n_estimators': [200, 1000]}"
   ]
  },
  {
   "cell_type": "code",
   "execution_count": 78,
   "id": "3887eb30",
   "metadata": {},
   "outputs": [],
   "source": [
    "grzyb_param = {'bootstrap': [True, False],\n",
    "               'max_depth': [5, 20],\n",
    "               'max_features': [0.1, 1.0],\n",
    "               'min_samples_leaf': [1, 25],\n",
    "               'min_samples_split': [2, 50],\n",
    "               'n_estimators': [200, 1000]}"
   ]
  },
  {
   "cell_type": "code",
   "execution_count": 54,
   "id": "3aee15f3",
   "metadata": {
    "collapsed": true
   },
   "outputs": [
    {
     "ename": "SyntaxError",
     "evalue": "invalid syntax. Maybe you meant '==' or ':=' instead of '='? (2622056627.py, line 1)",
     "output_type": "error",
     "traceback": [
      "\u001b[1;36m  Cell \u001b[1;32mIn[54], line 1\u001b[1;36m\u001b[0m\n\u001b[1;33m    grzybo = {n_estimators = trial.suggest_int(\"n_estimators\", 200, 1000, log=True)\u001b[0m\n\u001b[1;37m              ^\u001b[0m\n\u001b[1;31mSyntaxError\u001b[0m\u001b[1;31m:\u001b[0m invalid syntax. Maybe you meant '==' or ':=' instead of '='?\n"
     ]
    }
   ],
   "source": [
    "grzybo = {n_estimators = trial.suggest_int(\"n_estimators\", 200, 1000, log=True)\n",
    "                max_depth = trial.suggest_int(\"max_depth\", 5, 20, log=True)\n",
    "                max_features = trial.suggest_float('max_features', 0.1, 1.0)\n",
    "                min_samples_split = trial.suggest_int('min_samples_split', 2, 50)\n",
    "                min_samples_leaf = trial.suggest_int('min_samples_leaf', 1, 25)\n",
    "                max_samples = trial.suggest_float('max_samples', 0.2, 0.99)}"
   ]
  },
  {
   "cell_type": "code",
   "execution_count": 82,
   "id": "c10933b7",
   "metadata": {},
   "outputs": [],
   "source": [
    "random_search_grybo = RandomizedSearchCV(estimator=RFC_model,\n",
    "                                 param_distributions=grzyb_param,\n",
    "                                 n_iter=4*4*4*2,\n",
    "                                 verbose=0,\n",
    "                                 random_state=42,\n",
    "                                 n_jobs=3,      \n",
    "                                 scoring='roc_auc' )"
   ]
  },
  {
   "cell_type": "code",
   "execution_count": 56,
   "id": "65637736",
   "metadata": {},
   "outputs": [],
   "source": [
    "random_search = RandomizedSearchCV(estimator=RFC_model\n",
    "                                 , param_distributions=random_param_1\n",
    "                                 , n_iter=4*4*4*2\n",
    "                                 , scoring='roc_auc' )"
   ]
  },
  {
   "cell_type": "code",
   "execution_count": 83,
   "id": "7921d8aa",
   "metadata": {},
   "outputs": [
    {
     "data": {
      "text/plain": [
       "{'n_estimators': 130,\n",
       " 'min_samples_split': 2,\n",
       " 'min_samples_leaf': 1,\n",
       " 'max_features': 0.1,\n",
       " 'max_depth': 5,\n",
       " 'bootstrap': True}"
      ]
     },
     "execution_count": 83,
     "metadata": {},
     "output_type": "execute_result"
    }
   ],
   "source": [
    "random_search_grybo.fit(X=X_train, y=y_train)\n",
    " \n",
    "best_parameters = random_search.best_params_  \n",
    "best_parameters "
   ]
  },
  {
   "cell_type": "code",
   "execution_count": 64,
   "id": "fb8b5c94",
   "metadata": {},
   "outputs": [],
   "source": [
    "random_param_1__AFTER ={'n_estimators': 130,\n",
    " 'min_samples_split': 2,\n",
    " 'min_samples_leaf': 2,\n",
    " 'max_features': 'sqrt',\n",
    " 'max_depth': 50,\n",
    " 'bootstrap': True}\n",
    "\n",
    "# MAE: 2.676056338028169\n",
    "# Training Accuracy: 0.3380281690140845\n",
    "# Adjusted_mutual_info_score: 0.16106294842911503"
   ]
  },
  {
   "cell_type": "code",
   "execution_count": 67,
   "id": "debe0c69",
   "metadata": {},
   "outputs": [],
   "source": [
    "grzyb_param_AFTER ={'n_estimators': 130,\n",
    " 'min_samples_split': 2,\n",
    " 'min_samples_leaf': 1,\n",
    " 'max_features': 0.1,\n",
    " 'max_depth': 5,\n",
    "  'bootstrap': True}\n",
    "\n",
    "# MAE: 2.676056338028169\n",
    "# Training Accuracy: 0.3380281690140845\n",
    "# Adjusted_mutual_info_score: 0.16106294842911503"
   ]
  },
  {
   "cell_type": "code",
   "execution_count": 84,
   "id": "e750d555",
   "metadata": {},
   "outputs": [
    {
     "data": {
      "text/html": [
       "<style>#sk-container-id-6 {color: black;}#sk-container-id-6 pre{padding: 0;}#sk-container-id-6 div.sk-toggleable {background-color: white;}#sk-container-id-6 label.sk-toggleable__label {cursor: pointer;display: block;width: 100%;margin-bottom: 0;padding: 0.3em;box-sizing: border-box;text-align: center;}#sk-container-id-6 label.sk-toggleable__label-arrow:before {content: \"▸\";float: left;margin-right: 0.25em;color: #696969;}#sk-container-id-6 label.sk-toggleable__label-arrow:hover:before {color: black;}#sk-container-id-6 div.sk-estimator:hover label.sk-toggleable__label-arrow:before {color: black;}#sk-container-id-6 div.sk-toggleable__content {max-height: 0;max-width: 0;overflow: hidden;text-align: left;background-color: #f0f8ff;}#sk-container-id-6 div.sk-toggleable__content pre {margin: 0.2em;color: black;border-radius: 0.25em;background-color: #f0f8ff;}#sk-container-id-6 input.sk-toggleable__control:checked~div.sk-toggleable__content {max-height: 200px;max-width: 100%;overflow: auto;}#sk-container-id-6 input.sk-toggleable__control:checked~label.sk-toggleable__label-arrow:before {content: \"▾\";}#sk-container-id-6 div.sk-estimator input.sk-toggleable__control:checked~label.sk-toggleable__label {background-color: #d4ebff;}#sk-container-id-6 div.sk-label input.sk-toggleable__control:checked~label.sk-toggleable__label {background-color: #d4ebff;}#sk-container-id-6 input.sk-hidden--visually {border: 0;clip: rect(1px 1px 1px 1px);clip: rect(1px, 1px, 1px, 1px);height: 1px;margin: -1px;overflow: hidden;padding: 0;position: absolute;width: 1px;}#sk-container-id-6 div.sk-estimator {font-family: monospace;background-color: #f0f8ff;border: 1px dotted black;border-radius: 0.25em;box-sizing: border-box;margin-bottom: 0.5em;}#sk-container-id-6 div.sk-estimator:hover {background-color: #d4ebff;}#sk-container-id-6 div.sk-parallel-item::after {content: \"\";width: 100%;border-bottom: 1px solid gray;flex-grow: 1;}#sk-container-id-6 div.sk-label:hover label.sk-toggleable__label {background-color: #d4ebff;}#sk-container-id-6 div.sk-serial::before {content: \"\";position: absolute;border-left: 1px solid gray;box-sizing: border-box;top: 0;bottom: 0;left: 50%;z-index: 0;}#sk-container-id-6 div.sk-serial {display: flex;flex-direction: column;align-items: center;background-color: white;padding-right: 0.2em;padding-left: 0.2em;position: relative;}#sk-container-id-6 div.sk-item {position: relative;z-index: 1;}#sk-container-id-6 div.sk-parallel {display: flex;align-items: stretch;justify-content: center;background-color: white;position: relative;}#sk-container-id-6 div.sk-item::before, #sk-container-id-6 div.sk-parallel-item::before {content: \"\";position: absolute;border-left: 1px solid gray;box-sizing: border-box;top: 0;bottom: 0;left: 50%;z-index: -1;}#sk-container-id-6 div.sk-parallel-item {display: flex;flex-direction: column;z-index: 1;position: relative;background-color: white;}#sk-container-id-6 div.sk-parallel-item:first-child::after {align-self: flex-end;width: 50%;}#sk-container-id-6 div.sk-parallel-item:last-child::after {align-self: flex-start;width: 50%;}#sk-container-id-6 div.sk-parallel-item:only-child::after {width: 0;}#sk-container-id-6 div.sk-dashed-wrapped {border: 1px dashed gray;margin: 0 0.4em 0.5em 0.4em;box-sizing: border-box;padding-bottom: 0.4em;background-color: white;}#sk-container-id-6 div.sk-label label {font-family: monospace;font-weight: bold;display: inline-block;line-height: 1.2em;}#sk-container-id-6 div.sk-label-container {text-align: center;}#sk-container-id-6 div.sk-container {/* jupyter's `normalize.less` sets `[hidden] { display: none; }` but bootstrap.min.css set `[hidden] { display: none !important; }` so we also need the `!important` here to be able to override the default hidden behavior on the sphinx rendered scikit-learn.org. See: https://github.com/scikit-learn/scikit-learn/issues/21755 */display: inline-block !important;position: relative;}#sk-container-id-6 div.sk-text-repr-fallback {display: none;}</style><div id=\"sk-container-id-6\" class=\"sk-top-container\"><div class=\"sk-text-repr-fallback\"><pre>RandomForestClassifier(max_depth=5, max_features=0.1, n_estimators=130,\n",
       "                       random_state=42)</pre><b>In a Jupyter environment, please rerun this cell to show the HTML representation or trust the notebook. <br />On GitHub, the HTML representation is unable to render, please try loading this page with nbviewer.org.</b></div><div class=\"sk-container\" hidden><div class=\"sk-item\"><div class=\"sk-estimator sk-toggleable\"><input class=\"sk-toggleable__control sk-hidden--visually\" id=\"sk-estimator-id-6\" type=\"checkbox\" checked><label for=\"sk-estimator-id-6\" class=\"sk-toggleable__label sk-toggleable__label-arrow\">RandomForestClassifier</label><div class=\"sk-toggleable__content\"><pre>RandomForestClassifier(max_depth=5, max_features=0.1, n_estimators=130,\n",
       "                       random_state=42)</pre></div></div></div></div></div>"
      ],
      "text/plain": [
       "RandomForestClassifier(max_depth=5, max_features=0.1, n_estimators=130,\n",
       "                       random_state=42)"
      ]
     },
     "execution_count": 84,
     "metadata": {},
     "output_type": "execute_result"
    }
   ],
   "source": [
    "# model = xgb.XGBClassifier(**best_parameters)\n",
    "model = RandomForestClassifier(**grzyb_param_AFTER, random_state=42)\n",
    "model.fit(X_train, y_train)"
   ]
  },
  {
   "cell_type": "code",
   "execution_count": 85,
   "id": "e489030c",
   "metadata": {},
   "outputs": [
    {
     "name": "stdout",
     "output_type": "stream",
     "text": [
      "MAE: 2.415492957746479\n",
      "Training Accuracy: 0.323943661971831\n",
      "Adjusted_mutual_info_score: 0.16662061308018042\n"
     ]
    }
   ],
   "source": [
    "pred = model.predict(X_test)\n",
    "print(f'MAE: {mean_absolute_error(y_test, pred)}')\n",
    "print(\"Training Accuracy:\", accuracy_score(y_test, pred))\n",
    "print(\"Adjusted_mutual_info_score:\", adjusted_mutual_info_score(y_test, pred))"
   ]
  },
  {
   "cell_type": "code",
   "execution_count": 69,
   "id": "8ece7d24",
   "metadata": {},
   "outputs": [],
   "source": [
    "pred_test = model.predict(test)"
   ]
  },
  {
   "cell_type": "code",
   "execution_count": 73,
   "id": "57b39025",
   "metadata": {
    "scrolled": true
   },
   "outputs": [
    {
     "data": {
      "text/plain": [
       "array([ 0,  0,  8,  2,  8, 10,  4,  0,  9,  8,  8,  6,  6,  0,  2,  2,  8,\n",
       "        7,  0,  8,  8,  9,  2,  4,  0,  0,  0,  9, 10,  3,  8,  7,  3,  3,\n",
       "        3,  8,  2, 10,  3,  8,  8,  0,  9, 10,  0,  6,  0,  3, 10,  7,  6,\n",
       "        0,  3, 10,  6,  3,  0,  0,  1,  7,  8,  8,  3,  0,  7,  5,  8,  8,\n",
       "        0,  7,  7,  8,  4,  8,  3,  0,  8,  2,  9,  4,  8,  2,  9,  8,  2,\n",
       "        4,  3,  0,  7,  3,  8,  0,  9,  7,  1,  0,  3,  8, 10,  8,  2,  8,\n",
       "        4,  2,  7,  0,  2,  6,  9,  4,  8,  7,  9,  7,  8,  8,  9,  0,  1,\n",
       "        8,  8,  0,  4,  8,  1,  9,  7,  2,  0,  7,  3,  0,  8,  3,  9,  3,\n",
       "        8,  7,  7,  0,  4,  8,  4,  8,  8,  0,  1,  3,  8,  9,  0,  7,  4,\n",
       "        8,  0,  3,  0,  0,  8,  0,  8,  0,  9,  1,  0,  4,  4,  0,  6,  9,\n",
       "        9, 10,  2,  8,  7,  3,  0,  3,  6,  7,  0,  8,  0,  8,  8,  2,  9,\n",
       "        0,  0,  8,  3,  7,  8,  9,  9,  9,  9,  3,  8,  3,  6,  0,  0, 10,\n",
       "        8,  0,  2,  9,  3,  7,  4,  8,  2,  3,  0,  0,  0, 10,  6,  0,  8,\n",
       "        2,  0,  8,  0,  8,  8,  3,  0,  3,  4,  7,  8,  7,  3,  0,  9,  2,\n",
       "        0,  0,  8,  0,  7,  9,  3,  1,  3,  1,  7,  8,  8,  0,  7,  8,  0,\n",
       "        9,  8,  8,  4,  8,  3,  3,  2,  7,  7, 10,  0,  3,  8,  8,  8,  8,\n",
       "        4,  9,  2,  9,  7,  4,  2,  0,  1,  0,  6,  8,  6,  8,  9,  4,  6,\n",
       "        0,  7,  8,  8,  0,  8, 10,  9,  8,  8,  4,  3,  8,  8])"
      ]
     },
     "execution_count": 73,
     "metadata": {},
     "output_type": "execute_result"
    }
   ],
   "source": [
    "pred_test"
   ]
  },
  {
   "cell_type": "code",
   "execution_count": 74,
   "id": "d37b6437",
   "metadata": {
    "collapsed": true
   },
   "outputs": [
    {
     "data": {
      "text/plain": [
       "array(['Chikungunya', 'Chikungunya', 'West_Nile_fever',\n",
       "       'Japanese_encephalitis', 'West_Nile_fever', 'Zika', 'Malaria',\n",
       "       'Chikungunya', 'Yellow_Fever', 'West_Nile_fever',\n",
       "       'West_Nile_fever', 'Rift_Valley_fever', 'Rift_Valley_fever',\n",
       "       'Chikungunya', 'Japanese_encephalitis', 'Japanese_encephalitis',\n",
       "       'West_Nile_fever', 'Tungiasis', 'Chikungunya', 'West_Nile_fever',\n",
       "       'West_Nile_fever', 'Yellow_Fever', 'Japanese_encephalitis',\n",
       "       'Malaria', 'Chikungunya', 'Chikungunya', 'Chikungunya',\n",
       "       'Yellow_Fever', 'Zika', 'Lyme_disease', 'West_Nile_fever',\n",
       "       'Tungiasis', 'Lyme_disease', 'Lyme_disease', 'Lyme_disease',\n",
       "       'West_Nile_fever', 'Japanese_encephalitis', 'Zika', 'Lyme_disease',\n",
       "       'West_Nile_fever', 'West_Nile_fever', 'Chikungunya',\n",
       "       'Yellow_Fever', 'Zika', 'Chikungunya', 'Rift_Valley_fever',\n",
       "       'Chikungunya', 'Lyme_disease', 'Zika', 'Tungiasis',\n",
       "       'Rift_Valley_fever', 'Chikungunya', 'Lyme_disease', 'Zika',\n",
       "       'Rift_Valley_fever', 'Lyme_disease', 'Chikungunya', 'Chikungunya',\n",
       "       'Dengue', 'Tungiasis', 'West_Nile_fever', 'West_Nile_fever',\n",
       "       'Lyme_disease', 'Chikungunya', 'Tungiasis', 'Plague',\n",
       "       'West_Nile_fever', 'West_Nile_fever', 'Chikungunya', 'Tungiasis',\n",
       "       'Tungiasis', 'West_Nile_fever', 'Malaria', 'West_Nile_fever',\n",
       "       'Lyme_disease', 'Chikungunya', 'West_Nile_fever',\n",
       "       'Japanese_encephalitis', 'Yellow_Fever', 'Malaria',\n",
       "       'West_Nile_fever', 'Japanese_encephalitis', 'Yellow_Fever',\n",
       "       'West_Nile_fever', 'Japanese_encephalitis', 'Malaria',\n",
       "       'Lyme_disease', 'Chikungunya', 'Tungiasis', 'Lyme_disease',\n",
       "       'West_Nile_fever', 'Chikungunya', 'Yellow_Fever', 'Tungiasis',\n",
       "       'Dengue', 'Chikungunya', 'Lyme_disease', 'West_Nile_fever', 'Zika',\n",
       "       'West_Nile_fever', 'Japanese_encephalitis', 'West_Nile_fever',\n",
       "       'Malaria', 'Japanese_encephalitis', 'Tungiasis', 'Chikungunya',\n",
       "       'Japanese_encephalitis', 'Rift_Valley_fever', 'Yellow_Fever',\n",
       "       'Malaria', 'West_Nile_fever', 'Tungiasis', 'Yellow_Fever',\n",
       "       'Tungiasis', 'West_Nile_fever', 'West_Nile_fever', 'Yellow_Fever',\n",
       "       'Chikungunya', 'Dengue', 'West_Nile_fever', 'West_Nile_fever',\n",
       "       'Chikungunya', 'Malaria', 'West_Nile_fever', 'Dengue',\n",
       "       'Yellow_Fever', 'Tungiasis', 'Japanese_encephalitis',\n",
       "       'Chikungunya', 'Tungiasis', 'Lyme_disease', 'Chikungunya',\n",
       "       'West_Nile_fever', 'Lyme_disease', 'Yellow_Fever', 'Lyme_disease',\n",
       "       'West_Nile_fever', 'Tungiasis', 'Tungiasis', 'Chikungunya',\n",
       "       'Malaria', 'West_Nile_fever', 'Malaria', 'West_Nile_fever',\n",
       "       'West_Nile_fever', 'Chikungunya', 'Dengue', 'Lyme_disease',\n",
       "       'West_Nile_fever', 'Yellow_Fever', 'Chikungunya', 'Tungiasis',\n",
       "       'Malaria', 'West_Nile_fever', 'Chikungunya', 'Lyme_disease',\n",
       "       'Chikungunya', 'Chikungunya', 'West_Nile_fever', 'Chikungunya',\n",
       "       'West_Nile_fever', 'Chikungunya', 'Yellow_Fever', 'Dengue',\n",
       "       'Chikungunya', 'Malaria', 'Malaria', 'Chikungunya',\n",
       "       'Rift_Valley_fever', 'Yellow_Fever', 'Yellow_Fever', 'Zika',\n",
       "       'Japanese_encephalitis', 'West_Nile_fever', 'Tungiasis',\n",
       "       'Lyme_disease', 'Chikungunya', 'Lyme_disease', 'Rift_Valley_fever',\n",
       "       'Tungiasis', 'Chikungunya', 'West_Nile_fever', 'Chikungunya',\n",
       "       'West_Nile_fever', 'West_Nile_fever', 'Japanese_encephalitis',\n",
       "       'Yellow_Fever', 'Chikungunya', 'Chikungunya', 'West_Nile_fever',\n",
       "       'Lyme_disease', 'Tungiasis', 'West_Nile_fever', 'Yellow_Fever',\n",
       "       'Yellow_Fever', 'Yellow_Fever', 'Yellow_Fever', 'Lyme_disease',\n",
       "       'West_Nile_fever', 'Lyme_disease', 'Rift_Valley_fever',\n",
       "       'Chikungunya', 'Chikungunya', 'Zika', 'West_Nile_fever',\n",
       "       'Chikungunya', 'Japanese_encephalitis', 'Yellow_Fever',\n",
       "       'Lyme_disease', 'Tungiasis', 'Malaria', 'West_Nile_fever',\n",
       "       'Japanese_encephalitis', 'Lyme_disease', 'Chikungunya',\n",
       "       'Chikungunya', 'Chikungunya', 'Zika', 'Rift_Valley_fever',\n",
       "       'Chikungunya', 'West_Nile_fever', 'Japanese_encephalitis',\n",
       "       'Chikungunya', 'West_Nile_fever', 'Chikungunya', 'West_Nile_fever',\n",
       "       'West_Nile_fever', 'Lyme_disease', 'Chikungunya', 'Lyme_disease',\n",
       "       'Malaria', 'Tungiasis', 'West_Nile_fever', 'Tungiasis',\n",
       "       'Lyme_disease', 'Chikungunya', 'Yellow_Fever',\n",
       "       'Japanese_encephalitis', 'Chikungunya', 'Chikungunya',\n",
       "       'West_Nile_fever', 'Chikungunya', 'Tungiasis', 'Yellow_Fever',\n",
       "       'Lyme_disease', 'Dengue', 'Lyme_disease', 'Dengue', 'Tungiasis',\n",
       "       'West_Nile_fever', 'West_Nile_fever', 'Chikungunya', 'Tungiasis',\n",
       "       'West_Nile_fever', 'Chikungunya', 'Yellow_Fever',\n",
       "       'West_Nile_fever', 'West_Nile_fever', 'Malaria', 'West_Nile_fever',\n",
       "       'Lyme_disease', 'Lyme_disease', 'Japanese_encephalitis',\n",
       "       'Tungiasis', 'Tungiasis', 'Zika', 'Chikungunya', 'Lyme_disease',\n",
       "       'West_Nile_fever', 'West_Nile_fever', 'West_Nile_fever',\n",
       "       'West_Nile_fever', 'Malaria', 'Yellow_Fever',\n",
       "       'Japanese_encephalitis', 'Yellow_Fever', 'Tungiasis', 'Malaria',\n",
       "       'Japanese_encephalitis', 'Chikungunya', 'Dengue', 'Chikungunya',\n",
       "       'Rift_Valley_fever', 'West_Nile_fever', 'Rift_Valley_fever',\n",
       "       'West_Nile_fever', 'Yellow_Fever', 'Malaria', 'Rift_Valley_fever',\n",
       "       'Chikungunya', 'Tungiasis', 'West_Nile_fever', 'West_Nile_fever',\n",
       "       'Chikungunya', 'West_Nile_fever', 'Zika', 'Yellow_Fever',\n",
       "       'West_Nile_fever', 'West_Nile_fever', 'Malaria', 'Lyme_disease',\n",
       "       'West_Nile_fever', 'West_Nile_fever'], dtype=object)"
      ]
     },
     "execution_count": 74,
     "metadata": {},
     "output_type": "execute_result"
    }
   ],
   "source": [
    "# label = LabelEncoder()\n",
    "# train['prognosis'] =label.fit_transform(train['prognosis'])\n",
    "x = label.inverse_transform(pred_test)\n",
    "x"
   ]
  },
  {
   "cell_type": "code",
   "execution_count": 76,
   "id": "548b18a0",
   "metadata": {
    "collapsed": true
   },
   "outputs": [
    {
     "data": {
      "text/html": [
       "<div>\n",
       "<style scoped>\n",
       "    .dataframe tbody tr th:only-of-type {\n",
       "        vertical-align: middle;\n",
       "    }\n",
       "\n",
       "    .dataframe tbody tr th {\n",
       "        vertical-align: top;\n",
       "    }\n",
       "\n",
       "    .dataframe thead th {\n",
       "        text-align: right;\n",
       "    }\n",
       "</style>\n",
       "<table border=\"1\" class=\"dataframe\">\n",
       "  <thead>\n",
       "    <tr style=\"text-align: right;\">\n",
       "      <th></th>\n",
       "      <th>id</th>\n",
       "      <th>prognosis</th>\n",
       "    </tr>\n",
       "  </thead>\n",
       "  <tbody>\n",
       "    <tr>\n",
       "      <th>0</th>\n",
       "      <td>707</td>\n",
       "      <td>Chikungunya</td>\n",
       "    </tr>\n",
       "    <tr>\n",
       "      <th>1</th>\n",
       "      <td>708</td>\n",
       "      <td>Chikungunya</td>\n",
       "    </tr>\n",
       "    <tr>\n",
       "      <th>2</th>\n",
       "      <td>709</td>\n",
       "      <td>West_Nile_fever</td>\n",
       "    </tr>\n",
       "    <tr>\n",
       "      <th>3</th>\n",
       "      <td>710</td>\n",
       "      <td>Japanese_encephalitis</td>\n",
       "    </tr>\n",
       "    <tr>\n",
       "      <th>4</th>\n",
       "      <td>711</td>\n",
       "      <td>West_Nile_fever</td>\n",
       "    </tr>\n",
       "    <tr>\n",
       "      <th>...</th>\n",
       "      <td>...</td>\n",
       "      <td>...</td>\n",
       "    </tr>\n",
       "    <tr>\n",
       "      <th>298</th>\n",
       "      <td>1005</td>\n",
       "      <td>West_Nile_fever</td>\n",
       "    </tr>\n",
       "    <tr>\n",
       "      <th>299</th>\n",
       "      <td>1006</td>\n",
       "      <td>Malaria</td>\n",
       "    </tr>\n",
       "    <tr>\n",
       "      <th>300</th>\n",
       "      <td>1007</td>\n",
       "      <td>Lyme_disease</td>\n",
       "    </tr>\n",
       "    <tr>\n",
       "      <th>301</th>\n",
       "      <td>1008</td>\n",
       "      <td>West_Nile_fever</td>\n",
       "    </tr>\n",
       "    <tr>\n",
       "      <th>302</th>\n",
       "      <td>1009</td>\n",
       "      <td>West_Nile_fever</td>\n",
       "    </tr>\n",
       "  </tbody>\n",
       "</table>\n",
       "<p>303 rows × 2 columns</p>\n",
       "</div>"
      ],
      "text/plain": [
       "       id              prognosis\n",
       "0     707            Chikungunya\n",
       "1     708            Chikungunya\n",
       "2     709        West_Nile_fever\n",
       "3     710  Japanese_encephalitis\n",
       "4     711        West_Nile_fever\n",
       "..    ...                    ...\n",
       "298  1005        West_Nile_fever\n",
       "299  1006                Malaria\n",
       "300  1007           Lyme_disease\n",
       "301  1008        West_Nile_fever\n",
       "302  1009        West_Nile_fever\n",
       "\n",
       "[303 rows x 2 columns]"
      ]
     },
     "execution_count": 76,
     "metadata": {},
     "output_type": "execute_result"
    }
   ],
   "source": [
    "submission = pd.DataFrame({\n",
    "    'id': test['id'],\n",
    "    'prognosis': label.inverse_transform(pred_test)\n",
    "})\n",
    "submission"
   ]
  },
  {
   "cell_type": "code",
   "execution_count": 77,
   "id": "d43b10cf",
   "metadata": {},
   "outputs": [],
   "source": [
    "submission.to_csv('RFC.csv', index=False)"
   ]
  }
 ],
 "metadata": {
  "kernelspec": {
   "display_name": "Python 3 (ipykernel)",
   "language": "python",
   "name": "python3"
  },
  "language_info": {
   "codemirror_mode": {
    "name": "ipython",
    "version": 3
   },
   "file_extension": ".py",
   "mimetype": "text/x-python",
   "name": "python",
   "nbconvert_exporter": "python",
   "pygments_lexer": "ipython3",
   "version": "3.11.5"
  }
 },
 "nbformat": 4,
 "nbformat_minor": 5
}
